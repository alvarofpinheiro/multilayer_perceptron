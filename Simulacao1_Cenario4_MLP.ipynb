{
  "nbformat": 4,
  "nbformat_minor": 0,
  "metadata": {
    "colab": {
      "name": "Simulacao1_Cenario4_MLP.ipynb",
      "provenance": [],
      "collapsed_sections": []
    },
    "kernelspec": {
      "name": "python3",
      "display_name": "Python 3"
    }
  },
  "cells": [
    {
      "cell_type": "markdown",
      "source": [
        "MultiLayer Perceptron (MLP): O método Perceptron Multicamada teve sua origem com os estudos do matemático Walter Pitts em conjunto com o neurocientista Warren McCulloch criaram o primeiro circuito (neurônio de McCulloch-Pitts) objetivando simular um neurônio biológico em 1943, mas foi com os estudos de Frank Rosenblatt que em 1958 foi publicado o artigo sobre Perceptron sendo o primeiro neurônio artificial (capaz de resolver somente problemas lineares) que serviu de base para o Adaline e posteriormente ao MLP. Somente em 1980 depois de muitas pesquisas realizadas pelos pesquisadores David Rumelhart, Geoffrey Hinton, Ronald Williams é que foi publicado o trabalho sobre o Multilayer Perceptron (MLP) que passou a resolver problemas não lineares, fortalecendo o conceito de Machine Learning como base na arquitetura das Redes Neurais Artificiais (RNA), essa sendo totalmente conectada (full-conect) implementando o método denominado de backpropagation em uma rede neural feedforward.\n",
        "\n",
        "Rosenblatt, F. The perceptron: a probabilistic model for information storage and organization in the brain. Psychological Review, 65(6), 386-408. https://doi.org/10.1037/h0042519, 1958.\n",
        "\n",
        "Explicação do algoritmo MLP:"
      ],
      "metadata": {
        "id": "xbj2ZuQ-u0G-"
      }
    },
    {
      "cell_type": "code",
      "metadata": {
        "id": "0P6tBY50QOHR"
      },
      "source": [
        "#instalar biblioteca Orange Canvas\n",
        "!pip install Orange3"
      ],
      "execution_count": null,
      "outputs": []
    },
    {
      "cell_type": "code",
      "source": [
        "#importar biblioteca Orange Canvas\n",
        "import Orange"
      ],
      "metadata": {
        "id": "1MF20XTJ_Aa_"
      },
      "execution_count": null,
      "outputs": []
    },
    {
      "cell_type": "code",
      "source": [
        "#importar dados do disco local\n",
        "from google.colab import files  \n",
        "files.upload()"
      ],
      "metadata": {
        "id": "Ygu12JE_Afct"
      },
      "execution_count": null,
      "outputs": []
    },
    {
      "cell_type": "code",
      "source": [
        "#instanciar objeto de dados com base no caminho gerado com a importação do arquivo\n",
        "dados = Orange.data.Table(\"/content/simulacao1.csv\")"
      ],
      "metadata": {
        "id": "Uid5eSz5Fiwi"
      },
      "execution_count": null,
      "outputs": []
    },
    {
      "cell_type": "code",
      "source": [
        "#exibir os primeiros 5 registros para uma rápida análise da importação dos dados\n",
        "for d in dados[:5]:\n",
        "  print(d)"
      ],
      "metadata": {
        "id": "ar06vvffknDu"
      },
      "execution_count": null,
      "outputs": []
    },
    {
      "cell_type": "code",
      "source": [
        "#explorar os metadados da base de dados importada\n",
        "qtde_campos = len(dados.domain.attributes)\n",
        "qtde_cont = sum(1 for a in dados.domain.attributes if a.is_continuous)\n",
        "qtde_disc = sum(1 for a in dados.domain.attributes if a.is_discrete)\n",
        "print(\"%d metadados: %d continuos, %d discretos\" % (qtde_campos, qtde_cont, qtde_disc))\n",
        "print(\"Nome dos metadados:\", \", \".join(dados.domain.attributes[i].name for i in range(qtde_campos)),)"
      ],
      "metadata": {
        "id": "H5nbZkd6rDHS"
      },
      "execution_count": null,
      "outputs": []
    },
    {
      "cell_type": "code",
      "source": [
        "#explorar domínios dos atributos (campos da base de dados)\n",
        "dados.domain.attributes"
      ],
      "metadata": {
        "id": "J5VmTPgks2w5"
      },
      "execution_count": null,
      "outputs": []
    },
    {
      "cell_type": "code",
      "source": [
        "#explorar as classes da base de dados\n",
        "dados.domain.class_var"
      ],
      "metadata": {
        "id": "I3P5bR1Bts-m"
      },
      "execution_count": null,
      "outputs": []
    },
    {
      "cell_type": "code",
      "source": [
        "#explorar dados (quantidade de campos e registros da base de dados)\n",
        "print(\"Campos:\", \", \".join(c.name for c in dados.domain.attributes))\n",
        "print(\"Registros:\", len(dados))\n",
        "print(\"Valor do registro 1 da coluna 1:\", dados[0][0])\n",
        "print(\"Valor do registro 2 da coluna 2:\", dados[1][1])"
      ],
      "metadata": {
        "id": "g36bj2VTuNXm"
      },
      "execution_count": null,
      "outputs": []
    },
    {
      "cell_type": "code",
      "source": [
        "#criar amostra de dados, sendo 70% para treinamento e teste e 30% para avaliação\n",
        "qtde100 = len(dados)\n",
        "qtde70 = len(dados) * 70 / 100\n",
        "qtde30 = len(dados) * 30 / 100\n",
        "print(\"Qtde 100%:\", qtde100)\n",
        "print(\"Qtde  70%:\", qtde70)\n",
        "print(\"Qtde  30%:\", qtde30)\n",
        "amostra = Orange.data.Table(dados.domain, [d for d in dados if d.row_index < qtde70])\n",
        "print(\"Registros:\", len(dados))\n",
        "print(\"Registros:\", len(amostra))"
      ],
      "metadata": {
        "id": "Ds75Qk7vusPK"
      },
      "execution_count": null,
      "outputs": []
    },
    {
      "cell_type": "markdown",
      "source": [
        "**Hiperparâmetros do Multilayer Perceptron**\n",
        "\n",
        "hidden_layer_sizes=(100,),\n",
        "\n",
        "activation='relu',\n",
        "\n",
        "solver='adam',\n",
        "\n",
        "alpha=0.0001,\n",
        "\n",
        "batch_size='auto',\n",
        "\n",
        "learning_rate='constant',\n",
        "\n",
        "learning_rate_init=0.001,\n",
        "\n",
        "power_t=0.5, max_iter=200,\n",
        "\n",
        "shuffle=True,\n",
        "\n",
        "random_state=None,\n",
        "\n",
        "tol=0.0001, verbose=False,\n",
        "\n",
        "warm_start=False, momentum=0.9,\n",
        "\n",
        "nesterovs_momentum=True,\n",
        "\n",
        "early_stopping=False,\n",
        "\n",
        "validation_fraction=0.1,\n",
        "\n",
        "beta_1=0.9,\n",
        "\n",
        "beta_2=0.999,\n",
        "\n",
        "epsilon=1e-08,\n",
        "\n",
        "max_iter: número máximo de iterações.\n",
        "\n",
        "preprocessors: é usado o pré-processamento padrão quando nenhum outro pré-processador é fornecido. Ele os executa na seguinte ordem: remove instâncias com valores de destino desconhecidos; continua variáveis categóricas (com codificação one-hot); remove colunas vazias; imputa valores ausentes com valores médios."
      ],
      "metadata": {
        "id": "UOuI_eZNvT9_"
      }
    },
    {
      "cell_type": "code",
      "source": [
        "#inicializar a instância com os seus hiperparâmetros para a técnica Multilayer Perceptron (MLP) Cenário1\n",
        "mlp = Orange.classification.NNClassificationLearner(\n",
        "    hidden_layer_sizes=(100,),\n",
        "    activation='relu',\n",
        "    solver='adam',\n",
        "    alpha=0.0001,\n",
        "    batch_size='auto',\n",
        "    learning_rate='constant',\n",
        "    learning_rate_init=0.001,\n",
        "    power_t=0.5, max_iter=200,\n",
        "    shuffle=True,\n",
        "    random_state=None,\n",
        "    tol=0.0001, verbose=False,\n",
        "    warm_start=False, momentum=0.9,\n",
        "    nesterovs_momentum=True,\n",
        "    early_stopping=False,\n",
        "    validation_fraction=0.1,\n",
        "    beta_1=0.9,\n",
        "    beta_2=0.999,\n",
        "    epsilon=1e-08,\n",
        "    preprocessors=None)"
      ],
      "metadata": {
        "id": "YvZ5RDpqFNjc"
      },
      "execution_count": null,
      "outputs": []
    },
    {
      "cell_type": "code",
      "source": [
        "#ligar técnica MLP com os dados da simulação\n",
        "dados_mlp = mlp(dados)"
      ],
      "metadata": {
        "id": "VWRbVdmEK_CT"
      },
      "execution_count": null,
      "outputs": []
    },
    {
      "cell_type": "code",
      "source": [
        "#treinar e testar técnica MLP com os dados com 5 partes (folders)\n",
        "avalia_mlp = Orange.evaluation.CrossValidation(dados, [mlp], k=5)"
      ],
      "metadata": {
        "id": "vILOIZXJSwKA"
      },
      "execution_count": null,
      "outputs": []
    },
    {
      "cell_type": "code",
      "source": [
        "#avaliar os indicadores para o SVM com base nas métricas de classificação\n",
        "print(\"Acurácia:  %.3f\" % Orange.evaluation.scoring.CA(avalia_mlp)[0])\n",
        "print(\"Precisão:  %.3f\" % Orange.evaluation.scoring.Precision(avalia_mlp)[0])\n",
        "print(\"Revocação: %.3f\" % Orange.evaluation.scoring.Recall(avalia_mlp)[0])\n",
        "print(\"F1:        %.3f\" % Orange.evaluation.scoring.F1(avalia_mlp)[0])\n",
        "print(\"ROC:       %.3f\" % Orange.evaluation.scoring.AUC(avalia_mlp)[0])"
      ],
      "metadata": {
        "id": "_6tpW957S0O9"
      },
      "execution_count": null,
      "outputs": []
    },
    {
      "cell_type": "code",
      "source": [
        "#inicializar a instância com os seus hiperparâmetros para a técnica Supporte Vector Machine (SVM) Cenário2\n",
        "svm = Orange.classification.SVMLearner(\n",
        "    C=1.0, \n",
        "    kernel='rbf', \n",
        "    degree=3, \n",
        "    gamma='auto', \n",
        "    coef0=0.0, \n",
        "    shrinking=True, \n",
        "    probability=False, \n",
        "    tol=0.001, \n",
        "    cache_size=200, \n",
        "    max_iter=2000, \n",
        "    preprocessors=None)"
      ],
      "metadata": {
        "id": "SoraOTn4KKkp"
      },
      "execution_count": null,
      "outputs": []
    },
    {
      "cell_type": "code",
      "source": [
        "#inicializar a instância com os seus hiperparâmetros para a técnica K-Nearest Neighbors (KNN) Cenário3\n",
        "knn = Orange.classification.KNNLearner(\n",
        "    n_neighbors=5, \n",
        "    metric='euclidean', \n",
        "    weights='distance', \n",
        "    algorithm='auto', \n",
        "    metric_params=None, \n",
        "    preprocessors=None)"
      ],
      "metadata": {
        "id": "8MtQFD6qMfdH"
      },
      "execution_count": null,
      "outputs": []
    },
    {
      "cell_type": "code",
      "source": [
        "#validar o aprendizado para as 3 técnicas\n",
        "aprendizado = [mlp, svm, knn]\n",
        "avaliacao = Orange.evaluation.CrossValidation(dados, aprendizado, k=5)"
      ],
      "metadata": {
        "id": "ihR-hUDCazin"
      },
      "execution_count": null,
      "outputs": []
    },
    {
      "cell_type": "code",
      "source": [
        "#imprimir os indicadores para as 3 técnicas\n",
        "print(\" \" * 10 + \" | \".join(\"%-4s\" % learner.name for learner in aprendizado))\n",
        "print(\"Acurácia  %s\" % \" | \".join(\"%.2f\" % s for s in Orange.evaluation.CA(avaliacao)))\n",
        "print(\"Precisão  %s\" % \" | \".join(\"%.2f\" % s for s in Orange.evaluation.Precision(avaliacao)))\n",
        "print(\"Revocação %s\" % \" | \".join(\"%.2f\" % s for s in Orange.evaluation.Recall(avaliacao)))\n",
        "print(\"F1        %s\" % \" | \".join(\"%.2f\" % s for s in Orange.evaluation.F1(avaliacao)))\n",
        "print(\"ROC       %s\" % \" | \".join(\"%.2f\" % s for s in Orange.evaluation.AUC(avaliacao)))"
      ],
      "metadata": {
        "id": "MQn6ppBIfamY"
      },
      "execution_count": null,
      "outputs": []
    }
  ]
}