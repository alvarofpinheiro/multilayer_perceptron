{
  "nbformat": 4,
  "nbformat_minor": 0,
  "metadata": {
    "colab": {
      "name": "Simulacao3_Cenario1_MLP.ipynb",
      "provenance": [],
      "collapsed_sections": [],
      "include_colab_link": true
    },
    "kernelspec": {
      "name": "python3",
      "display_name": "Python 3"
    }
  },
  "cells": [
    {
      "cell_type": "markdown",
      "metadata": {
        "id": "view-in-github",
        "colab_type": "text"
      },
      "source": [
        "<a href=\"https://colab.research.google.com/github/alvarofpinheiro/multilayer_perceptron/blob/main/Simulacao3_Cenario1_MLP.ipynb\" target=\"_parent\"><img src=\"https://colab.research.google.com/assets/colab-badge.svg\" alt=\"Open In Colab\"/></a>"
      ]
    },
    {
      "cell_type": "markdown",
      "source": [
        "Um perceptron multicamada é uma classe de rede neural artificial tipo feedforward, consistindo de pelo menos três camadas de nós, sendo uma camada de entrada, uma camada oculta e uma camada de saída. Exceto pelos nós de entrada, cada nó é um neurônio que usa uma função de ativação não linear. O MLP utiliza uma técnica de aprendizado supervisionado chamada retropropagação para treinamento, podendo distinguir dados que não são linearmente separáveis.\n",
        "\n",
        "Rumelhart, D.E. Hinton, G.E.; Williams, R.J.  Learning representations by back-propagating errors. Nature 323, 533–536. https://doi.org/10.1038/323533a0, 1986."
      ],
      "metadata": {
        "id": "atNC9YQrN33T"
      }
    },
    {
      "cell_type": "code",
      "metadata": {
        "id": "0P6tBY50QOHR"
      },
      "source": [
        "#instalar biblioteca Orange Canvas\n",
        "!pip install Orange3"
      ],
      "execution_count": null,
      "outputs": []
    },
    {
      "cell_type": "code",
      "source": [
        "#importar biblioteca Orange Canvas\n",
        "import Orange"
      ],
      "metadata": {
        "id": "1MF20XTJ_Aa_"
      },
      "execution_count": null,
      "outputs": []
    },
    {
      "cell_type": "code",
      "source": [
        "#importar dados do disco local\n",
        "from google.colab import files  \n",
        "files.upload()"
      ],
      "metadata": {
        "id": "Ygu12JE_Afct"
      },
      "execution_count": null,
      "outputs": []
    },
    {
      "cell_type": "code",
      "source": [
        "#instanciar objeto de dados com base no caminho gerado com a importação do arquivo\n",
        "dados = Orange.data.Table(\"/content/Simulacao1.csv\")"
      ],
      "metadata": {
        "id": "Uid5eSz5Fiwi"
      },
      "execution_count": null,
      "outputs": []
    },
    {
      "cell_type": "code",
      "source": [
        "#imprimir os primeiros 5 registros\n",
        "for d in dados[:5]:\n",
        "  print(d)"
      ],
      "metadata": {
        "id": "ar06vvffknDu"
      },
      "execution_count": null,
      "outputs": []
    },
    {
      "cell_type": "code",
      "source": [
        "#explorar os metadados\n",
        "qtde_campos = len(dados.domain.attributes)\n",
        "qtde_cont = sum(1 for a in dados.domain.attributes if a.is_continuous)\n",
        "qtde_disc = sum(1 for a in dados.domain.attributes if a.is_discrete)\n",
        "print(\"%d metadados: %d continuos, %d discretos\" % (qtde_campos, qtde_cont, qtde_disc))\n",
        "print(\"Nome dos metadados:\", \", \".join(dados.domain.attributes[i].name for i in range(qtde_campos)),)"
      ],
      "metadata": {
        "id": "H5nbZkd6rDHS"
      },
      "execution_count": null,
      "outputs": []
    },
    {
      "cell_type": "code",
      "source": [
        "#explorar domínios\n",
        "dados.domain.attributes"
      ],
      "metadata": {
        "id": "J5VmTPgks2w5"
      },
      "execution_count": null,
      "outputs": []
    },
    {
      "cell_type": "code",
      "source": [
        "#explorar classe\n",
        "dados.domain.class_var"
      ],
      "metadata": {
        "id": "I3P5bR1Bts-m"
      },
      "execution_count": null,
      "outputs": []
    },
    {
      "cell_type": "code",
      "source": [
        "#explorar dados\n",
        "print(\"Campos:\", \", \".join(c.name for c in dados.domain.attributes))\n",
        "print(\"Registros:\", len(dados))\n",
        "print(\"Valor do registro 1 da coluna 1:\", dados[0][0])\n",
        "print(\"Valor do registro 2 da coluna 2:\", dados[1][1])"
      ],
      "metadata": {
        "id": "g36bj2VTuNXm"
      },
      "execution_count": null,
      "outputs": []
    },
    {
      "cell_type": "code",
      "source": [
        "#criar amostra\n",
        "qtde100 = len(dados)\n",
        "qtde70 = len(dados) * 70 / 100\n",
        "qtde30 = len(dados) * 30 / 100\n",
        "print(\"Qtde 100%:\", qtde100)\n",
        "print(\"Qtde  70%:\", qtde70)\n",
        "print(\"Qtde  30%:\", qtde30)\n",
        "amostra = Orange.data.Table(dados.domain, [d for d in dados if d.row_index < qtde70])\n",
        "print(\"Registros:\", len(dados))\n",
        "print(\"Registros:\", len(amostra))"
      ],
      "metadata": {
        "id": "Ds75Qk7vusPK"
      },
      "execution_count": null,
      "outputs": []
    },
    {
      "cell_type": "code",
      "source": [
        "#Técnica Multi-Layer Perceptron (MLP)\n",
        "mlp = Orange.classification.NNClassificationLearner(\n",
        "    hidden_layer_sizes=(128), \n",
        "    activation='relu', \n",
        "    solver='sgd', \n",
        "    alpha=0.0001, \n",
        "    batch_size='auto', \n",
        "    learning_rate='constant', \n",
        "    learning_rate_init=0.001, \n",
        "    power_t=0.5,\n",
        "    max_iter=200, \n",
        "    shuffle=True,\n",
        "    random_state=None, \n",
        "    tol=0.0001,\n",
        "    verbose=False, \n",
        "    warm_start=False, \n",
        "    momentum=0.9, \n",
        "    nesterovs_momentum=True, \n",
        "    early_stopping=False, \n",
        "    validation_fraction=0.1, \n",
        "    beta_1=0.9, \n",
        "    beta_2=0.999, \n",
        "    epsilon=1e-08, \n",
        "    preprocessors=None)"
      ],
      "metadata": {
        "id": "RbAJ44FgLM00"
      },
      "execution_count": null,
      "outputs": []
    },
    {
      "cell_type": "code",
      "source": [
        "#ligar técnica MLP aos dados\n",
        "dados_mlp = mlp(dados)"
      ],
      "metadata": {
        "id": "bmlBAnbmMKd-"
      },
      "execution_count": null,
      "outputs": []
    },
    {
      "cell_type": "code",
      "source": [
        "#treinar e testar técnica MLP com os dados\n",
        "avalia_mlp = Orange.evaluation.CrossValidation(dados, [mlp], k=5)"
      ],
      "metadata": {
        "id": "_vNTaCAHS5bk"
      },
      "execution_count": null,
      "outputs": []
    },
    {
      "cell_type": "code",
      "source": [
        "#avaliar os indicadores para o MLP\n",
        "print(\"Acurácia:  %.3f\" % Orange.evaluation.scoring.CA(avalia_mlp)[0])\n",
        "print(\"Precisão:  %.3f\" % Orange.evaluation.scoring.Precision(avalia_mlp)[0])\n",
        "print(\"Revocação: %.3f\" % Orange.evaluation.scoring.Recall(avalia_mlp)[0])\n",
        "print(\"F1:        %.3f\" % Orange.evaluation.scoring.F1(avalia_mlp)[0])\n",
        "print(\"ROC:       %.3f\" % Orange.evaluation.scoring.AUC(avalia_mlp)[0])"
      ],
      "metadata": {
        "id": "dtxG4yrDTAtv"
      },
      "execution_count": null,
      "outputs": []
    },
    {
      "cell_type": "code",
      "source": [
        "#comparar a técnica MLP com LOR\n",
        "lor = Orange.classification.LogisticRegressionLearner(\n",
        "    penalty='l2', \n",
        "    dual=False, \n",
        "    tol=0.0001, \n",
        "    C=1.0, \n",
        "    fit_intercept=True, \n",
        "    intercept_scaling=1, \n",
        "    class_weight=None, \n",
        "    random_state=None, \n",
        "    solver='auto', \n",
        "    max_iter=100, \n",
        "    multi_class='auto', \n",
        "    verbose=0, n_jobs=1, \n",
        "    preprocessors=None)"
      ],
      "metadata": {
        "id": "AyGp1M7dNPFe"
      },
      "execution_count": null,
      "outputs": []
    },
    {
      "cell_type": "code",
      "source": [
        "#comparar a técnica MLP com NB\n",
        "nb = Orange.classification.NaiveBayesLearner(preprocessors=None)\n",
        "#avaliar\n",
        "dados_lor = lor(dados)\n",
        "dados_nb = nb(dados)\n",
        "aprendizado = [mlp, lor, nb]\n",
        "avaliacao = Orange.evaluation.CrossValidation(dados, aprendizado, k=5)"
      ],
      "metadata": {
        "id": "ihR-hUDCazin"
      },
      "execution_count": null,
      "outputs": []
    },
    {
      "cell_type": "code",
      "source": [
        "#imprimir os indicadores para as 3 técnicas\n",
        "print(\" \" * 10 + \" | \".join(\"%-4s\" % learner.name for learner in aprendizado))\n",
        "print(\"Acurácia  %s\" % \" | \".join(\"%.2f\" % s for s in Orange.evaluation.CA(avaliacao)))\n",
        "print(\"Precisão  %s\" % \" | \".join(\"%.2f\" % s for s in Orange.evaluation.Precision(avaliacao)))\n",
        "print(\"Revocação %s\" % \" | \".join(\"%.2f\" % s for s in Orange.evaluation.Recall(avaliacao)))\n",
        "print(\"F1        %s\" % \" | \".join(\"%.2f\" % s for s in Orange.evaluation.F1(avaliacao)))\n",
        "print(\"ROC       %s\" % \" | \".join(\"%.2f\" % s for s in Orange.evaluation.AUC(avaliacao)))"
      ],
      "metadata": {
        "id": "MQn6ppBIfamY"
      },
      "execution_count": null,
      "outputs": []
    }
  ]
}